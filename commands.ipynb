{
 "cells": [
  {
   "cell_type": "code",
   "execution_count": 1,
   "metadata": {},
   "outputs": [],
   "source": [
    "from back.__main__ import *"
   ]
  },
  {
   "cell_type": "code",
   "execution_count": 38,
   "metadata": {},
   "outputs": [
    {
     "name": "stdout",
     "output_type": "stream",
     "text": [
      "admin status: True\n"
     ]
    }
   ],
   "source": [
    "from back.auth.admin import install_admin_user\n",
    "from back.db.base import database\n",
    "\n",
    "async def run_install_admin_user():\n",
    "    \"\"\"Install the admin user.\"\"\"\n",
    "    async with database:\n",
    "        result = await install_admin_user()\n",
    "        print(\"admin status:\", result)\n",
    "\n",
    "\n",
    "await run_install_admin_user()"
   ]
  },
  {
   "cell_type": "code",
   "execution_count": 44,
   "metadata": {},
   "outputs": [
    {
     "data": {
      "text/plain": [
       "[Author({'id': 1, 'auth0_id': 'github|28759924', 'email': 'mbriolet.ma@gmail.com', 'username': '8area8', 'is_admin': False, 'articles': []})]"
      ]
     },
     "execution_count": 44,
     "metadata": {},
     "output_type": "execute_result"
    }
   ],
   "source": [
    "from back.auth.admin import install_admin_user\n",
    "from back.db.base import database\n",
    "from back.db.models import Author\n",
    "\n",
    "async def get_authors():\n",
    "    \"\"\"Get the authors.\"\"\"\n",
    "    async with database:\n",
    "        async with database.transaction(force_rollback=True):\n",
    "            return await Author.objects.all()\n",
    "\n",
    "await get_authors()"
   ]
  },
  {
   "cell_type": "code",
   "execution_count": 1,
   "metadata": {},
   "outputs": [
    {
     "name": "stdout",
     "output_type": "stream",
     "text": [
      "\n"
     ]
    }
   ],
   "source": [
    "\"\"\"Drop all the database !\n",
    "\"\"\"\n",
    "\n",
    "import sqlalchemy\n",
    "from back.db.models import MainMeta\n",
    "from back.config import settings\n",
    "\n",
    "choice = input(\"Warning : all the database will be dropped ! tap 'yes' to continue.\")\n",
    "print()\n",
    "if choice == \"yes\":\n",
    "    engine = sqlalchemy.create_engine(settings.DB_DSN)\n",
    "    MainMeta.metadata.drop_all(engine)\n",
    "    try:\n",
    "        engine.execute('drop table alembic_version')\n",
    "    except Exception:\n",
    "        pass"
   ]
  },
  {
   "cell_type": "code",
   "execution_count": null,
   "metadata": {},
   "outputs": [],
   "source": []
  }
 ],
 "metadata": {
  "interpreter": {
   "hash": "949777d72b0d2535278d3dc13498b2535136f6dfe0678499012e853ee9abcab1"
  },
  "kernelspec": {
   "display_name": "Python 3.10.2 64-bit",
   "language": "python",
   "name": "python3"
  },
  "language_info": {
   "codemirror_mode": {
    "name": "ipython",
    "version": 3
   },
   "file_extension": ".py",
   "mimetype": "text/x-python",
   "name": "python",
   "nbconvert_exporter": "python",
   "pygments_lexer": "ipython3",
   "version": "3.10.2"
  },
  "orig_nbformat": 4
 },
 "nbformat": 4,
 "nbformat_minor": 2
}
