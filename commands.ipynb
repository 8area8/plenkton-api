{
 "cells": [
  {
   "cell_type": "code",
   "execution_count": 1,
   "metadata": {},
   "outputs": [],
   "source": [
    "from back.__main__ import *"
   ]
  },
  {
   "cell_type": "code",
   "execution_count": 2,
   "metadata": {},
   "outputs": [
    {
     "name": "stdout",
     "output_type": "stream",
     "text": [
      "admin status: True\n"
     ]
    }
   ],
   "source": [
    "from back.auth.admin import install_admin_user\n",
    "from back.db.base import database\n",
    "\n",
    "async def run_install_admin_user():\n",
    "    \"\"\"Install the admin user.\"\"\"\n",
    "    async with database:\n",
    "        result = await install_admin_user()\n",
    "        print(\"admin status:\", result)\n",
    "\n",
    "\n",
    "await run_install_admin_user()"
   ]
  },
  {
   "cell_type": "code",
   "execution_count": 2,
   "metadata": {},
   "outputs": [
    {
     "data": {
      "text/plain": [
       "[]"
      ]
     },
     "execution_count": 2,
     "metadata": {},
     "output_type": "execute_result"
    }
   ],
   "source": [
    "from back.auth.admin import install_admin_user\n",
    "from back.db.base import database\n",
    "from back.db.models import Author\n",
    "\n",
    "async def get_authors():\n",
    "    \"\"\"Get the authors.\"\"\"\n",
    "    async with database:\n",
    "        return await Author.objects.all()\n",
    "\n",
    "async def set_is_admin():\n",
    "    authors = await get_authors()\n",
    "    async with database:\n",
    "        authors[0].is_admin = True\n",
    "        await authors[0].update()\n",
    "\n",
    "\n",
    "await get_authors()\n",
    "# await set_is_admin()"
   ]
  },
  {
   "cell_type": "code",
   "execution_count": 1,
   "metadata": {},
   "outputs": [
    {
     "name": "stdout",
     "output_type": "stream",
     "text": [
      "\n"
     ]
    }
   ],
   "source": [
    "\"\"\"Drop all the database !\n",
    "\"\"\"\n",
    "\n",
    "import sqlalchemy\n",
    "from back.db.models import MainMeta\n",
    "from back.config import settings\n",
    "\n",
    "choice = input(\"Warning : all the database will be dropped ! tap 'yes' to continue.\")\n",
    "print()\n",
    "if choice == \"yes\":\n",
    "    engine = sqlalchemy.create_engine(settings.DB_DSN)\n",
    "    MainMeta.metadata.drop_all(engine)\n",
    "    try:\n",
    "        engine.execute('drop table alembic_version')\n",
    "    except Exception:\n",
    "        pass"
   ]
  },
  {
   "cell_type": "code",
   "execution_count": 1,
   "metadata": {},
   "outputs": [
    {
     "data": {
      "text/plain": [
       "[Article({'id': 1, 'name': 'Super Python part one', 'teaser': 'So fun', 'body': 'long body', 'tags': [], 'author': Author({'id': 1, 'auth0_id': None, 'email': None, 'username': None, 'is_admin': None, 'articles': [<weakproxy at 0x7fed1e61fd30 to Article at 0x7fed1e5f3940>]}), 'created_at': datetime.datetime(2022, 4, 2, 11, 4, 20, 539172), 'modified_at': datetime.datetime(2022, 4, 2, 11, 4, 20, 539198), 'articletag': None}),\n",
       " Article({'id': 2, 'name': 'Incredible JS', 'teaser': 'Okay', 'body': 'long body', 'tags': [], 'author': Author({'id': 1, 'auth0_id': None, 'email': None, 'username': None, 'is_admin': None, 'articles': [<weakproxy at 0x7fed1e61e5c0 to Article at 0x7fed1e5f3ac0>]}), 'created_at': datetime.datetime(2022, 4, 2, 11, 4, 20, 554409), 'modified_at': datetime.datetime(2022, 4, 2, 11, 4, 20, 554442), 'articletag': None}),\n",
       " Article({'id': 3, 'name': 'Django or not Django', 'teaser': 'New one', 'body': 'long body', 'tags': [], 'author': Author({'id': 1, 'auth0_id': None, 'email': None, 'username': None, 'is_admin': None, 'articles': [<weakproxy at 0x7fed1e61f420 to Article at 0x7fed1e5f3b20>]}), 'created_at': datetime.datetime(2022, 4, 2, 11, 4, 20, 562135), 'modified_at': datetime.datetime(2022, 4, 2, 11, 4, 20, 562159), 'articletag': None}),\n",
       " Article({'id': 4, 'name': 'SQL and more', 'teaser': 'Why not', 'body': 'long body', 'tags': [], 'author': Author({'id': 1, 'auth0_id': None, 'email': None, 'username': None, 'is_admin': None, 'articles': [<weakproxy at 0x7fed1e61f100 to Article at 0x7fed1e5f3ca0>]}), 'created_at': datetime.datetime(2022, 4, 2, 11, 4, 20, 567378), 'modified_at': datetime.datetime(2022, 4, 2, 11, 4, 20, 567393), 'articletag': None}),\n",
       " Article({'id': 5, 'name': 'Why learn Python 4', 'teaser': 'Wow !', 'body': 'long body', 'tags': [], 'author': Author({'id': 1, 'auth0_id': None, 'email': None, 'username': None, 'is_admin': None, 'articles': [<weakproxy at 0x7fed1e61eca0 to Article at 0x7fed1e5f3d60>]}), 'created_at': datetime.datetime(2022, 4, 2, 11, 4, 20, 574759), 'modified_at': datetime.datetime(2022, 4, 2, 11, 4, 20, 574774), 'articletag': None})]"
      ]
     },
     "execution_count": 1,
     "metadata": {},
     "output_type": "execute_result"
    }
   ],
   "source": [
    "from back.db.base import database\n",
    "from back.db.models import Article\n",
    "from back.article.fixtures import ArticlesFixture\n",
    "\n",
    "async def load_articles():\n",
    "    \"\"\"Load the articles.\"\"\"\n",
    "    fixture = ArticlesFixture()\n",
    "    async with database:\n",
    "        await fixture.add()\n",
    "        return await Article.objects.all()\n",
    "\n",
    "await load_articles()"
   ]
  }
 ],
 "metadata": {
  "interpreter": {
   "hash": "949777d72b0d2535278d3dc13498b2535136f6dfe0678499012e853ee9abcab1"
  },
  "kernelspec": {
   "display_name": "Python 3.10.2 64-bit",
   "language": "python",
   "name": "python3"
  },
  "language_info": {
   "codemirror_mode": {
    "name": "ipython",
    "version": 3
   },
   "file_extension": ".py",
   "mimetype": "text/x-python",
   "name": "python",
   "nbconvert_exporter": "python",
   "pygments_lexer": "ipython3",
   "version": "3.10.4"
  },
  "orig_nbformat": 4
 },
 "nbformat": 4,
 "nbformat_minor": 2
}
